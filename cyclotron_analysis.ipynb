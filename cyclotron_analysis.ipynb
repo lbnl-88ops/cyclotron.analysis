{
 "cells": [
  {
   "cell_type": "markdown",
   "id": "577511a5",
   "metadata": {},
   "source": [
    "# Cyclotron Analysis Package"
   ]
  },
  {
   "cell_type": "markdown",
   "id": "ff766d77",
   "metadata": {},
   "source": [
    "## Beams\n",
    "\n",
    "To define a beam, use the `BeamParameter` class with the ion mass in amu, the charge of the ion, and the ion energy. Do not worry about changing the mass based on the charge state, the code will do that automatically. Here we will create an Ar-11 beam:"
   ]
  },
  {
   "cell_type": "code",
   "execution_count": 1,
   "id": "55f2a234",
   "metadata": {},
   "outputs": [],
   "source": [
    "from ops.cyclotron.analysis.model import BeamParameters\n",
    "\n",
    "beam = BeamParameters(mass=39.95635, charge=11, energy=400)"
   ]
  },
  {
   "cell_type": "markdown",
   "id": "bc0b7306",
   "metadata": {},
   "source": [
    "The `ops.cyclotron.analysis.physics` module has a number of functions for calculating physics parameters for both fields and beams, as well as commonly used constants. Here we can verify that the ion mass has been adjusted by the charge state."
   ]
  },
  {
   "cell_type": "code",
   "execution_count": 5,
   "id": "0bb94923",
   "metadata": {},
   "outputs": [
    {
     "name": "stdout",
     "output_type": "stream",
     "text": [
      "Beam mass specification 39.95635 amu, which is larger than the calculated ion mass 39.95031 amu\n"
     ]
    }
   ],
   "source": [
    "from ops.cyclotron.analysis.physics import calculate_ion_mass_in_amu\n",
    "ion_mass = calculate_ion_mass_in_amu(beam)\n",
    "print(f'Beam mass specification {beam.mass} amu, which is larger than the calculated ion mass {ion_mass:.5f} amu')"
   ]
  },
  {
   "cell_type": "markdown",
   "id": "c003ff35",
   "metadata": {},
   "source": [
    "If we'd like to calculated the required frequency to run this beam, we can first calculate the field at the center of the cyclotron. To do this, we calculate the _required_ field at the extraction radius to extract ions at the proper energy, and then divide by $\\gamma$.$$B_{\\text{req}}(m, q, E) = \\frac{mv(e)}{qR}$$ where $R$ is the extraction radius.$$\\gamma = \\sqrt{1 + p^2(m, E)},$$ $$B_0 = \\frac{B_{\\text{req}}}{\\gamma},$$ and finally, $$\\omega = \\frac{qB_0}{m}.$$ These equations are already included for our beam parameters object."
   ]
  },
  {
   "cell_type": "code",
   "execution_count": 10,
   "id": "ff51fd16",
   "metadata": {},
   "outputs": [
    {
     "name": "stdout",
     "output_type": "stream",
     "text": [
      "Required frequency: 7.008 MhZ\n"
     ]
    }
   ],
   "source": [
    "import numpy as np\n",
    "from ops.cyclotron.analysis.physics import calculate_required_b_field, calculate_momentum_squared, calculate_frequency\n",
    "\n",
    "required_field = calculate_required_b_field(beam) # Gauss\n",
    "gamma = np.sqrt(1 + calculate_momentum_squared(beam)) # unitless\n",
    "b_0 = required_field/gamma\n",
    "omega = calculate_frequency(beam, b_0)\n",
    "print(f'Required frequency: {omega:.3f} MhZ')"
   ]
  }
 ],
 "metadata": {
  "kernelspec": {
   "display_name": ".venv",
   "language": "python",
   "name": "python3"
  },
  "language_info": {
   "codemirror_mode": {
    "name": "ipython",
    "version": 3
   },
   "file_extension": ".py",
   "mimetype": "text/x-python",
   "name": "python",
   "nbconvert_exporter": "python",
   "pygments_lexer": "ipython3",
   "version": "3.13.5"
  }
 },
 "nbformat": 4,
 "nbformat_minor": 5
}
